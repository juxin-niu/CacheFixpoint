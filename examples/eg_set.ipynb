{
 "cells": [
  {
   "cell_type": "code",
   "execution_count": 1,
   "metadata": {
    "collapsed": true
   },
   "outputs": [],
   "source": [
    "from samples.abstract_states import *"
   ]
  },
  {
   "cell_type": "markdown",
   "source": [
    "# Cache set state level"
   ],
   "metadata": {
    "collapsed": false
   }
  },
  {
   "cell_type": "code",
   "execution_count": 2,
   "outputs": [],
   "source": [
    "\"\"\" Must analysis \"\"\"\n",
    "\n",
    "s0 = CacheSetState(max_age=4, evicted=False, init_state=[{'a'}, set(), {'b', 'c'}, {'d'}])\n",
    "s1 = CacheSetState(max_age=4, evicted=False, init_state=[{'a'}, {'b'}, {'c'}, {'d'}])\n",
    "s2 = CacheSetState(max_age=4, evicted=False, init_state=[{'c'}, {'e'}, {'a'}, {'d'}])"
   ],
   "metadata": {
    "collapsed": false
   }
  },
  {
   "cell_type": "code",
   "execution_count": 3,
   "outputs": [
    {
     "name": "stdout",
     "output_type": "stream",
     "text": [
      "line:[{'a'}, {}, {'c', 'b'}, {'d'}]\n",
      "line:[{}, {}, {'c', 'a'}, {'d'}]\n"
     ]
    }
   ],
   "source": [
    "must_update(s0, 'a')\n",
    "print(s0)\n",
    "s_new = must_join(s1, s2)\n",
    "print(s_new)"
   ],
   "metadata": {
    "collapsed": false
   }
  },
  {
   "cell_type": "code",
   "execution_count": 4,
   "outputs": [],
   "source": [
    "\"\"\" May analysis \"\"\"\n",
    "\n",
    "s0 = CacheSetState(max_age=4, evicted=False, init_state=[{'a'}, {'b', 'c'}, set(), {'d'}])\n",
    "s1 = CacheSetState(max_age=4, evicted=False, init_state=[{'a'}, {'b'}, {'c'}, {'d'}])\n",
    "s2 = CacheSetState(max_age=4, evicted=False, init_state=[{'c'}, {'e', 'f'}, {'a'}, {'d'}])"
   ],
   "metadata": {
    "collapsed": false
   }
  },
  {
   "cell_type": "code",
   "execution_count": 5,
   "outputs": [
    {
     "name": "stdout",
     "output_type": "stream",
     "text": [
      "line:[{'c'}, {'a'}, {'b'}, {'d'}]\n",
      "line:[{'c', 'a'}, {'e', 'b', 'f'}, {}, {'d'}]\n"
     ]
    }
   ],
   "source": [
    "may_update(s0, 'c')\n",
    "print(s0)\n",
    "s_new = may_join(s1, s2)\n",
    "print(s_new)"
   ],
   "metadata": {
    "collapsed": false
   }
  },
  {
   "cell_type": "code",
   "execution_count": 6,
   "outputs": [],
   "source": [
    "\"\"\" Persistent analysis \"\"\"\n",
    "\n",
    "s0 = CacheSetState(max_age=4, evicted=True, init_state=[{'a'}, set(), {'b', 'c'}, {'d'}, {'e'}])\n",
    "s1 = CacheSetState(max_age=4, evicted=True, init_state=[{'e'}, {'b'}, {'c'}, {'d'}, {'a'}])\n",
    "s2 = CacheSetState(max_age=4, evicted=True, init_state=[{'c'}, {'e', 'f'}, {'a'}, {'d'}, {'b'}])"
   ],
   "metadata": {
    "collapsed": false
   }
  },
  {
   "cell_type": "code",
   "execution_count": 7,
   "outputs": [
    {
     "name": "stdout",
     "output_type": "stream",
     "text": [
      "line:[{'f'}, {'a'}, {}, {'c', 'b'}] evict:{'e', 'd'}\n",
      "line:[{}, {'e', 'f'}, {'c'}, {'d'}] evict:{'a', 'b'}\n"
     ]
    }
   ],
   "source": [
    "persistent_update(s0, 'f')\n",
    "print(s0)\n",
    "new_s = persistent_join(s1, s2)\n",
    "print(new_s)"
   ],
   "metadata": {
    "collapsed": false
   }
  }
 ],
 "metadata": {
  "kernelspec": {
   "display_name": "Python 3",
   "language": "python",
   "name": "python3"
  },
  "language_info": {
   "codemirror_mode": {
    "name": "ipython",
    "version": 2
   },
   "file_extension": ".py",
   "mimetype": "text/x-python",
   "name": "python",
   "nbconvert_exporter": "python",
   "pygments_lexer": "ipython2",
   "version": "2.7.6"
  }
 },
 "nbformat": 4,
 "nbformat_minor": 0
}
