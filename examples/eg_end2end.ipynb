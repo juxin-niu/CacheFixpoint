{
 "cells": [
  {
   "cell_type": "code",
   "execution_count": 9,
   "outputs": [],
   "source": [
    "from samples.frontend import CacheConfig, in_out_nodes_generation, inst_block_gen, extract_mem_blocks\n",
    "from samples.fixpoint import Fixpoint, FixpointType, fixpoint_nodes_generation\n",
    "from pprint import pprint"
   ],
   "metadata": {
    "collapsed": false
   }
  },
  {
   "cell_type": "code",
   "execution_count": 10,
   "metadata": {
    "collapsed": true
   },
   "outputs": [
    {
     "data": {
      "text/plain": "' All information needed for cache analysis. '"
     },
     "execution_count": 10,
     "metadata": {},
     "output_type": "execute_result"
    }
   ],
   "source": [
    "\"\"\" All information needed for cache analysis. \"\"\""
   ]
  },
  {
   "cell_type": "code",
   "execution_count": 11,
   "outputs": [],
   "source": [
    "\"\"\" Example 1 \"\"\"\n",
    "\n",
    "ExampleUsage = 1\n",
    "\n",
    "all_nodes, entry, edges, address_range, cache_conf = (None, ) * 5\n",
    "\n",
    "if ExampleUsage == 0:\n",
    "\n",
    "    # Idents of all nodes.\n",
    "    all_nodes = ['Up', 'B_left', 'B_right', 'Down']\n",
    "    entry = 'Up'\n",
    "    # All directed edges. The CFG is determined by nodes and edges.\n",
    "    edges = [('Up', 'B_left'), ('Up', 'B_right'), ('B_left', 'Down'), ('B_right', 'Down')]\n",
    "    # For instruction cache analysis, the instruction range of each basic block.\n",
    "    address_range = {'Up': (0x400784, 0x4007a4), 'B_left': (0x4007bc, 0x4007cb), 'B_right': (0x4007a8, 0x4007b8), 'Down': (0x4007cc, 0x4007d4)}\n",
    "    # Cache config.\n",
    "    cache_conf = CacheConfig(offset_len=6, set_index_len=8, assoc=4)\n",
    "\n",
    "elif ExampleUsage == 1:\n",
    "\n",
    "    all_nodes = ['400604', '400630', '40066c', '400708', '400724', '400730', '40073c', '400740', '40074c', '400754',\n",
    "                 '400758', '400770', '40079c', '4007c0', '4007d4', '4007fc', '40080c', '400848', '400864', '400870', '400874']\n",
    "    entry = '400604'\n",
    "    edges = [('400604', '400740'), ('400604', '400630'), ('400630', '400730'), ('40066c', '400724'), ('40066c', '400708'), ('400708', '400874'), ('400724', '400730'),\n",
    "             ('400730', '40066c'), ('400730', '40073c'), ('40073c', '400870'), ('400740', '400754'), ('400740', '40074c'), ('40074c', '400758'), ('400754', '400758'),\n",
    "             ('400758', '400864'), ('400770', '4007c0'), ('400770', '40079c'), ('40079c', '400848'), ('4007c0', '4007fc'), ('4007d4', '4007fc'), ('4007fc', '4007d4'),\n",
    "             ('4007fc', '40080c'), ('40080c', '400848'), ('400848', '400864'), ('400864', '400770'), ('400864', '400870'), ('400870', '400874')]\n",
    "    address_range = {\n",
    "        '400604': (4195844, 4195884), '400630': (4195888, 4195944), '40066c': (4195948, 4196100), '400708': (4196104, 4196128), '400724': (4196132, 4196140),\n",
    "        '400730': (4196144, 4196152), '40073c': (4196156, 4196156), '400740': (4196160, 4196168), '40074c': (4196172, 4196176), '400754': (4196180, 4196180),\n",
    "        '400758': (4196184, 4196204), '400770': (4196208, 4196248), '40079c': (4196252, 4196284), '4007c0': (4196288, 4196304), '4007d4': (4196308, 4196344),\n",
    "        '4007fc': (4196348, 4196360), '40080c': (4196364, 4196420), '400848': (4196424, 4196448), '400864': (4196452, 4196460), '400870': (4196464, 4196464),\n",
    "        '400874': (4196468, 4196472)\n",
    "    }\n",
    "    cache_conf = CacheConfig(offset_len=6, set_index_len=8, assoc=4)\n"
   ],
   "metadata": {
    "collapsed": false
   }
  },
  {
   "cell_type": "code",
   "execution_count": 12,
   "outputs": [
    {
     "name": "stdout",
     "output_type": "stream",
     "text": [
      "{'400604': set(),\n",
      " '400630': {'400604'},\n",
      " '40066c': {'400730'},\n",
      " '400708': {'40066c'},\n",
      " '400724': {'40066c'},\n",
      " '400730': {'400630', '400724'},\n",
      " '40073c': {'400730'},\n",
      " '400740': {'400604'},\n",
      " '40074c': {'400740'},\n",
      " '400754': {'400740'},\n",
      " '400758': {'40074c', '400754'},\n",
      " '400770': {'400864'},\n",
      " '40079c': {'400770'},\n",
      " '4007c0': {'400770'},\n",
      " '4007d4': {'4007fc'},\n",
      " '4007fc': {'4007d4', '4007c0'},\n",
      " '40080c': {'4007fc'},\n",
      " '400848': {'40079c', '40080c'},\n",
      " '400864': {'400848', '400758'},\n",
      " '400870': {'400864', '40073c'},\n",
      " '400874': {'400870', '400708'}}\n",
      "{'400604': {'400630', '400740'},\n",
      " '400630': {'400730'},\n",
      " '40066c': {'400724', '400708'},\n",
      " '400708': {'400874'},\n",
      " '400724': {'400730'},\n",
      " '400730': {'40066c', '40073c'},\n",
      " '40073c': {'400870'},\n",
      " '400740': {'40074c', '400754'},\n",
      " '40074c': {'400758'},\n",
      " '400754': {'400758'},\n",
      " '400758': {'400864'},\n",
      " '400770': {'4007c0', '40079c'},\n",
      " '40079c': {'400848'},\n",
      " '4007c0': {'4007fc'},\n",
      " '4007d4': {'4007fc'},\n",
      " '4007fc': {'4007d4', '40080c'},\n",
      " '40080c': {'400848'},\n",
      " '400848': {'400864'},\n",
      " '400864': {'400770', '400870'},\n",
      " '400870': {'400874'},\n",
      " '400874': set()}\n"
     ]
    }
   ],
   "source": [
    "\"\"\" Get in_nodes and out_nodes of each basic block. \"\"\"\n",
    "\n",
    "in_nodes, out_nodes = in_out_nodes_generation(all_nodes, edges)\n",
    "\n",
    "pprint(in_nodes)\n",
    "pprint(out_nodes)"
   ],
   "metadata": {
    "collapsed": false
   }
  },
  {
   "cell_type": "code",
   "execution_count": 13,
   "outputs": [
    {
     "name": "stdout",
     "output_type": "stream",
     "text": [
      "{'400604': [<MemBlock tag:0x100 set_index:24>],\n",
      " '400630': [<MemBlock tag:0x100 set_index:24>,\n",
      "            <MemBlock tag:0x100 set_index:25>],\n",
      " '40066c': [<MemBlock tag:0x100 set_index:25>,\n",
      "            <MemBlock tag:0x100 set_index:26>,\n",
      "            <MemBlock tag:0x100 set_index:27>,\n",
      "            <MemBlock tag:0x100 set_index:28>],\n",
      " '400708': [<MemBlock tag:0x100 set_index:28>],\n",
      " '400724': [<MemBlock tag:0x100 set_index:28>],\n",
      " '400730': [<MemBlock tag:0x100 set_index:28>],\n",
      " '40073c': [<MemBlock tag:0x100 set_index:28>],\n",
      " '400740': [<MemBlock tag:0x100 set_index:29>],\n",
      " '40074c': [<MemBlock tag:0x100 set_index:29>],\n",
      " '400754': [<MemBlock tag:0x100 set_index:29>],\n",
      " '400758': [<MemBlock tag:0x100 set_index:29>],\n",
      " '400770': [<MemBlock tag:0x100 set_index:29>,\n",
      "            <MemBlock tag:0x100 set_index:30>],\n",
      " '40079c': [<MemBlock tag:0x100 set_index:30>],\n",
      " '4007c0': [<MemBlock tag:0x100 set_index:31>],\n",
      " '4007d4': [<MemBlock tag:0x100 set_index:31>],\n",
      " '4007fc': [<MemBlock tag:0x100 set_index:31>,\n",
      "            <MemBlock tag:0x100 set_index:32>],\n",
      " '40080c': [<MemBlock tag:0x100 set_index:32>,\n",
      "            <MemBlock tag:0x100 set_index:33>],\n",
      " '400848': [<MemBlock tag:0x100 set_index:33>],\n",
      " '400864': [<MemBlock tag:0x100 set_index:33>],\n",
      " '400870': [<MemBlock tag:0x100 set_index:33>],\n",
      " '400874': [<MemBlock tag:0x100 set_index:33>]}\n"
     ]
    }
   ],
   "source": [
    "\"\"\" Memory block of each basic block. \"\"\"\n",
    "\n",
    "mem_block_dict = {ident: inst_block_gen(*address_range[ident], cache_config=cache_conf) for ident in all_nodes}\n",
    "pprint(mem_block_dict)"
   ],
   "metadata": {
    "collapsed": false
   }
  },
  {
   "cell_type": "code",
   "execution_count": 14,
   "outputs": [
    {
     "name": "stdout",
     "output_type": "stream",
     "text": [
      "{'400604': [],\n",
      " '400630': [],\n",
      " '40066c': [<MemBlock tag:0x100 set_index:28>],\n",
      " '400708': [<MemBlock tag:0x100 set_index:28>],\n",
      " '400724': [<MemBlock tag:0x100 set_index:28>],\n",
      " '400730': [<MemBlock tag:0x100 set_index:28>],\n",
      " '40073c': [<MemBlock tag:0x100 set_index:28>],\n",
      " '400740': [],\n",
      " '40074c': [],\n",
      " '400754': [],\n",
      " '400758': [],\n",
      " '400770': [],\n",
      " '40079c': [],\n",
      " '4007c0': [],\n",
      " '4007d4': [],\n",
      " '4007fc': [],\n",
      " '40080c': [],\n",
      " '400848': [],\n",
      " '400864': [],\n",
      " '400870': [],\n",
      " '400874': []}\n"
     ]
    }
   ],
   "source": [
    "\"\"\" Split memory block by set index. \"\"\"\n",
    "\n",
    "pprint(extract_mem_blocks(28, mem_block_dict))"
   ],
   "metadata": {
    "collapsed": false
   }
  },
  {
   "cell_type": "code",
   "execution_count": 15,
   "outputs": [
    {
     "name": "stdout",
     "output_type": "stream",
     "text": [
      "[<400604 ACC:[] IN:set(), OUT:{'400630', '400740'} IN_STAT:line:[{}, {}, {}, {}], OUT_STAT:line:[{}, {}, {}, {}]>,\n",
      " <400630 ACC:[] IN:{'400604'}, OUT:{'400730'} IN_STAT:line:[{}, {}, {}, {}], OUT_STAT:line:[{}, {}, {}, {}]>,\n",
      " <40066c ACC:[] IN:{'400730'}, OUT:{'400724', '400708'} IN_STAT:line:[{}, {}, {}, {}], OUT_STAT:line:[{}, {}, {}, {}]>,\n",
      " <400708 ACC:[] IN:{'40066c'}, OUT:{'400874'} IN_STAT:line:[{}, {}, {}, {}], OUT_STAT:line:[{}, {}, {}, {}]>,\n",
      " <400724 ACC:[] IN:{'40066c'}, OUT:{'400730'} IN_STAT:line:[{}, {}, {}, {}], OUT_STAT:line:[{}, {}, {}, {}]>,\n",
      " <400730 ACC:[] IN:{'400630', '400724'}, OUT:{'40066c', '40073c'} IN_STAT:line:[{}, {}, {}, {}], OUT_STAT:line:[{}, {}, {}, {}]>,\n",
      " <40073c ACC:[] IN:{'400730'}, OUT:{'400870'} IN_STAT:line:[{}, {}, {}, {}], OUT_STAT:line:[{}, {}, {}, {}]>,\n",
      " <400740 ACC:[] IN:{'400604'}, OUT:{'40074c', '400754'} IN_STAT:line:[{}, {}, {}, {}], OUT_STAT:line:[{}, {}, {}, {}]>,\n",
      " <40074c ACC:[] IN:{'400740'}, OUT:{'400758'} IN_STAT:line:[{}, {}, {}, {}], OUT_STAT:line:[{}, {}, {}, {}]>,\n",
      " <400754 ACC:[] IN:{'400740'}, OUT:{'400758'} IN_STAT:line:[{}, {}, {}, {}], OUT_STAT:line:[{}, {}, {}, {}]>,\n",
      " <400758 ACC:[] IN:{'40074c', '400754'}, OUT:{'400864'} IN_STAT:line:[{}, {}, {}, {}], OUT_STAT:line:[{}, {}, {}, {}]>,\n",
      " <400770 ACC:[] IN:{'400864'}, OUT:{'4007c0', '40079c'} IN_STAT:line:[{}, {}, {}, {}], OUT_STAT:line:[{}, {}, {}, {}]>,\n",
      " <40079c ACC:[] IN:{'400770'}, OUT:{'400848'} IN_STAT:line:[{}, {}, {}, {}], OUT_STAT:line:[{}, {}, {}, {}]>,\n",
      " <4007c0 ACC:[256] IN:{'400770'}, OUT:{'4007fc'} IN_STAT:line:[{}, {}, {}, {}], OUT_STAT:line:[{}, {}, {}, {}]>,\n",
      " <4007d4 ACC:[256] IN:{'4007fc'}, OUT:{'4007fc'} IN_STAT:line:[{}, {}, {}, {}], OUT_STAT:line:[{}, {}, {}, {}]>,\n",
      " <4007fc ACC:[256] IN:{'4007d4', '4007c0'}, OUT:{'4007d4', '40080c'} IN_STAT:line:[{}, {}, {}, {}], OUT_STAT:line:[{}, {}, {}, {}]>,\n",
      " <40080c ACC:[] IN:{'4007fc'}, OUT:{'400848'} IN_STAT:line:[{}, {}, {}, {}], OUT_STAT:line:[{}, {}, {}, {}]>,\n",
      " <400848 ACC:[] IN:{'40079c', '40080c'}, OUT:{'400864'} IN_STAT:line:[{}, {}, {}, {}], OUT_STAT:line:[{}, {}, {}, {}]>,\n",
      " <400864 ACC:[] IN:{'400848', '400758'}, OUT:{'400770', '400870'} IN_STAT:line:[{}, {}, {}, {}], OUT_STAT:line:[{}, {}, {}, {}]>,\n",
      " <400870 ACC:[] IN:{'400864', '40073c'}, OUT:{'400874'} IN_STAT:line:[{}, {}, {}, {}], OUT_STAT:line:[{}, {}, {}, {}]>,\n",
      " <400874 ACC:[] IN:{'400870', '400708'}, OUT:set() IN_STAT:line:[{}, {}, {}, {}], OUT_STAT:line:[{}, {}, {}, {}]>]\n"
     ]
    }
   ],
   "source": [
    "\"\"\" Fixpoint nodes basic generation. \"\"\"\n",
    "\"\"\" Illustrated with must analysis, set_index=31 as example. \"\"\"\n",
    "\n",
    "fp_nodes = fixpoint_nodes_generation(nodes=all_nodes, in_nodes=in_nodes, out_nodes=out_nodes,\n",
    "                                     cache_config=cache_conf, evicted=False,\n",
    "                                     mem_block_dict=extract_mem_blocks(31, mem_block_dict))\n",
    "pprint(fp_nodes)"
   ],
   "metadata": {
    "collapsed": false
   }
  },
  {
   "cell_type": "code",
   "execution_count": 16,
   "outputs": [
    {
     "name": "stdout",
     "output_type": "stream",
     "text": [
      "('400604', '400630', '400740', '400730', '40074c', '400754', '40066c', '40073c', '400758', '400758', '400724', '400708', '400870', '400864', '400864', '400874', '400874', '400770', '400770', '4007c0', '40079c', '4007c0', '40079c', '4007fc', '400848', '4007fc', '400848', '4007d4', '40080c', '4007d4', '40080c')\n",
      "[<400604 ACC:[] IN:set(), OUT:{'400630', '400740'} IN_STAT:line:[{}, {}, {}, {}], OUT_STAT:line:[{}, {}, {}, {}]>,\n",
      " <400630 ACC:[] IN:{'400604'}, OUT:{'400730'} IN_STAT:line:[{}, {}, {}, {}], OUT_STAT:line:[{}, {}, {}, {}]>,\n",
      " <40066c ACC:[] IN:{'400730'}, OUT:{'400724', '400708'} IN_STAT:line:[{}, {}, {}, {}], OUT_STAT:line:[{}, {}, {}, {}]>,\n",
      " <400708 ACC:[] IN:{'40066c'}, OUT:{'400874'} IN_STAT:line:[{}, {}, {}, {}], OUT_STAT:line:[{}, {}, {}, {}]>,\n",
      " <400724 ACC:[] IN:{'40066c'}, OUT:{'400730'} IN_STAT:line:[{}, {}, {}, {}], OUT_STAT:line:[{}, {}, {}, {}]>,\n",
      " <400730 ACC:[] IN:{'400630', '400724'}, OUT:{'40066c', '40073c'} IN_STAT:line:[{}, {}, {}, {}], OUT_STAT:line:[{}, {}, {}, {}]>,\n",
      " <40073c ACC:[] IN:{'400730'}, OUT:{'400870'} IN_STAT:line:[{}, {}, {}, {}], OUT_STAT:line:[{}, {}, {}, {}]>,\n",
      " <400740 ACC:[] IN:{'400604'}, OUT:{'40074c', '400754'} IN_STAT:line:[{}, {}, {}, {}], OUT_STAT:line:[{}, {}, {}, {}]>,\n",
      " <40074c ACC:[] IN:{'400740'}, OUT:{'400758'} IN_STAT:line:[{}, {}, {}, {}], OUT_STAT:line:[{}, {}, {}, {}]>,\n",
      " <400754 ACC:[] IN:{'400740'}, OUT:{'400758'} IN_STAT:line:[{}, {}, {}, {}], OUT_STAT:line:[{}, {}, {}, {}]>,\n",
      " <400758 ACC:[] IN:{'40074c', '400754'}, OUT:{'400864'} IN_STAT:line:[{}, {}, {}, {}], OUT_STAT:line:[{}, {}, {}, {}]>,\n",
      " <400770 ACC:[] IN:{'400864'}, OUT:{'4007c0', '40079c'} IN_STAT:line:[{}, {}, {}, {}], OUT_STAT:line:[{}, {}, {}, {}]>,\n",
      " <40079c ACC:[] IN:{'400770'}, OUT:{'400848'} IN_STAT:line:[{}, {}, {}, {}], OUT_STAT:line:[{}, {}, {}, {}]>,\n",
      " <4007c0 ACC:[256] IN:{'400770'}, OUT:{'4007fc'} IN_STAT:line:[{}, {}, {}, {}], OUT_STAT:line:[{256}, {}, {}, {}]>,\n",
      " <4007d4 ACC:[256] IN:{'4007fc'}, OUT:{'4007fc'} IN_STAT:line:[{256}, {}, {}, {}], OUT_STAT:line:[{256}, {}, {}, {}]>,\n",
      " <4007fc ACC:[256] IN:{'4007d4', '4007c0'}, OUT:{'4007d4', '40080c'} IN_STAT:line:[{256}, {}, {}, {}], OUT_STAT:line:[{256}, {}, {}, {}]>,\n",
      " <40080c ACC:[] IN:{'4007fc'}, OUT:{'400848'} IN_STAT:line:[{256}, {}, {}, {}], OUT_STAT:line:[{256}, {}, {}, {}]>,\n",
      " <400848 ACC:[] IN:{'40079c', '40080c'}, OUT:{'400864'} IN_STAT:line:[{}, {}, {}, {}], OUT_STAT:line:[{}, {}, {}, {}]>,\n",
      " <400864 ACC:[] IN:{'400848', '400758'}, OUT:{'400770', '400870'} IN_STAT:line:[{}, {}, {}, {}], OUT_STAT:line:[{}, {}, {}, {}]>,\n",
      " <400870 ACC:[] IN:{'400864', '40073c'}, OUT:{'400874'} IN_STAT:line:[{}, {}, {}, {}], OUT_STAT:line:[{}, {}, {}, {}]>,\n",
      " <400874 ACC:[] IN:{'400870', '400708'}, OUT:set() IN_STAT:line:[{}, {}, {}, {}], OUT_STAT:line:[{}, {}, {}, {}]>]\n"
     ]
    }
   ],
   "source": [
    "fixpoint = Fixpoint(ty=FixpointType.Must, entry=entry, all_nodes=fp_nodes)\n",
    "print(fixpoint.pse_topsort_seq)\n",
    "\n",
    "fixpoint.run()\n",
    "pprint(fp_nodes)"
   ],
   "metadata": {
    "collapsed": false
   }
  }
 ],
 "metadata": {
  "kernelspec": {
   "display_name": "Python 3",
   "language": "python",
   "name": "python3"
  },
  "language_info": {
   "codemirror_mode": {
    "name": "ipython",
    "version": 2
   },
   "file_extension": ".py",
   "mimetype": "text/x-python",
   "name": "python",
   "nbconvert_exporter": "python",
   "pygments_lexer": "ipython2",
   "version": "2.7.6"
  }
 },
 "nbformat": 4,
 "nbformat_minor": 0
}
