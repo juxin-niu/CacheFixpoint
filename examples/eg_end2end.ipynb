{
 "cells": [
  {
   "cell_type": "code",
   "execution_count": 1,
   "outputs": [],
   "source": [
    "from samples.frontend import CacheConfig, in_out_nodes_generation, inst_block_gen, extract_mem_blocks\n",
    "from samples.fixpoint import Fixpoint, FixpointType, fixpoint_nodes_generation\n",
    "from pprint import pprint"
   ],
   "metadata": {
    "collapsed": false
   }
  },
  {
   "cell_type": "code",
   "execution_count": 2,
   "metadata": {
    "collapsed": true
   },
   "outputs": [],
   "source": [
    "\"\"\" All information needed for cache analysis. \"\"\"\n",
    "\n",
    "# Idents of all nodes.\n",
    "all_nodes = ['Up', 'B_left', 'B_right', 'Down']\n",
    "# All directed edges. The CFG is determined by nodes and edges.\n",
    "edges = [('Up', 'B_left'), ('Up', 'B_right'), ('B_left', 'Down'), ('B_right', 'Down')]\n",
    "# For instruction cache analysis, the instruction range of each basic block.\n",
    "address_range = {'Up': (0x400784, 0x4007a4), 'B_left': (0x4007bc, 0x4007cb), 'B_right': (0x4007a8, 0x4007b8), 'Down': (0x4007cc, 0x4007d4)}\n",
    "\n",
    "# Cache config.\n",
    "cache_conf = CacheConfig(offset_len=6, set_index_len=8, assoc=4)"
   ]
  },
  {
   "cell_type": "code",
   "execution_count": 3,
   "outputs": [
    {
     "name": "stdout",
     "output_type": "stream",
     "text": [
      "{'B_left': {'Up'},\n",
      " 'B_right': {'Up'},\n",
      " 'Down': {'B_right', 'B_left'},\n",
      " 'Up': set()}\n",
      "{'B_left': {'Down'},\n",
      " 'B_right': {'Down'},\n",
      " 'Down': set(),\n",
      " 'Up': {'B_right', 'B_left'}}\n"
     ]
    }
   ],
   "source": [
    "\"\"\" Get in_nodes and out_nodes of each basic block. \"\"\"\n",
    "\n",
    "in_nodes, out_nodes = in_out_nodes_generation(all_nodes, edges)\n",
    "\n",
    "pprint(in_nodes)\n",
    "pprint(out_nodes)"
   ],
   "metadata": {
    "collapsed": false
   }
  },
  {
   "cell_type": "code",
   "execution_count": 4,
   "outputs": [
    {
     "name": "stdout",
     "output_type": "stream",
     "text": [
      "{'B_left': [<MemBlock tag:0x100 set_index:30>,\n",
      "            <MemBlock tag:0x100 set_index:31>],\n",
      " 'B_right': [<MemBlock tag:0x100 set_index:30>],\n",
      " 'Down': [<MemBlock tag:0x100 set_index:31>],\n",
      " 'Up': [<MemBlock tag:0x100 set_index:30>]}\n"
     ]
    }
   ],
   "source": [
    "\"\"\" Memory block of each basic block. \"\"\"\n",
    "\n",
    "mem_block_dict = {ident: inst_block_gen(*address_range[ident], cache_config=cache_conf) for ident in all_nodes}\n",
    "pprint(mem_block_dict)"
   ],
   "metadata": {
    "collapsed": false
   }
  },
  {
   "cell_type": "code",
   "execution_count": 5,
   "outputs": [
    {
     "name": "stdout",
     "output_type": "stream",
     "text": [
      "{'B_left': [<MemBlock tag:0x100 set_index:30>],\n",
      " 'B_right': [<MemBlock tag:0x100 set_index:30>],\n",
      " 'Down': [],\n",
      " 'Up': [<MemBlock tag:0x100 set_index:30>]}\n"
     ]
    }
   ],
   "source": [
    "\"\"\" Split memory block by set index. \"\"\"\n",
    "\n",
    "pprint(extract_mem_blocks(30, mem_block_dict))"
   ],
   "metadata": {
    "collapsed": false
   }
  },
  {
   "cell_type": "code",
   "execution_count": 6,
   "outputs": [
    {
     "name": "stdout",
     "output_type": "stream",
     "text": [
      "[<Up ACC:[] IN:set(), OUT:{'B_right', 'B_left'} IN_STAT:line:[{}, {}, {}, {}], OUT_STAT:line:[{}, {}, {}, {}]>,\n",
      " <B_left ACC:[256] IN:{'Up'}, OUT:{'Down'} IN_STAT:line:[{}, {}, {}, {}], OUT_STAT:line:[{}, {}, {}, {}]>,\n",
      " <B_right ACC:[] IN:{'Up'}, OUT:{'Down'} IN_STAT:line:[{}, {}, {}, {}], OUT_STAT:line:[{}, {}, {}, {}]>,\n",
      " <Down ACC:[256] IN:{'B_right', 'B_left'}, OUT:set() IN_STAT:line:[{}, {}, {}, {}], OUT_STAT:line:[{}, {}, {}, {}]>]\n"
     ]
    }
   ],
   "source": [
    "\"\"\" Fixpoint nodes basic generation. \"\"\"\n",
    "\"\"\" Illustrated with must analysis, set_index=31 as example. \"\"\"\n",
    "\n",
    "fp_nodes = fixpoint_nodes_generation(nodes=all_nodes, in_nodes=in_nodes, out_nodes=out_nodes,\n",
    "                                     cache_config=cache_conf, evicted=False,\n",
    "                                     mem_block_dict=extract_mem_blocks(31, mem_block_dict))\n",
    "pprint(fp_nodes)"
   ],
   "metadata": {
    "collapsed": false
   }
  },
  {
   "cell_type": "code",
   "execution_count": 7,
   "outputs": [
    {
     "name": "stdout",
     "output_type": "stream",
     "text": [
      "('Up', 'B_right', 'B_left', 'Down', 'Down')\n",
      "[<Up ACC:[] IN:set(), OUT:{'B_right', 'B_left'} IN_STAT:line:[{}, {}, {}, {}], OUT_STAT:line:[{}, {}, {}, {}]>,\n",
      " <B_left ACC:[256] IN:{'Up'}, OUT:{'Down'} IN_STAT:line:[{}, {}, {}, {}], OUT_STAT:line:[{256}, {}, {}, {}]>,\n",
      " <B_right ACC:[] IN:{'Up'}, OUT:{'Down'} IN_STAT:line:[{}, {}, {}, {}], OUT_STAT:line:[{}, {}, {}, {}]>,\n",
      " <Down ACC:[256] IN:{'B_right', 'B_left'}, OUT:set() IN_STAT:line:[{}, {}, {}, {}], OUT_STAT:line:[{256}, {}, {}, {}]>]\n"
     ]
    }
   ],
   "source": [
    "fixpoint = Fixpoint(ty=FixpointType.Must, entry='Up', all_nodes=fp_nodes)\n",
    "print(fixpoint.pse_topsort_seq)\n",
    "\n",
    "fixpoint.run()\n",
    "pprint(fp_nodes)"
   ],
   "metadata": {
    "collapsed": false
   }
  }
 ],
 "metadata": {
  "kernelspec": {
   "display_name": "Python 3",
   "language": "python",
   "name": "python3"
  },
  "language_info": {
   "codemirror_mode": {
    "name": "ipython",
    "version": 2
   },
   "file_extension": ".py",
   "mimetype": "text/x-python",
   "name": "python",
   "nbconvert_exporter": "python",
   "pygments_lexer": "ipython2",
   "version": "2.7.6"
  }
 },
 "nbformat": 4,
 "nbformat_minor": 0
}
